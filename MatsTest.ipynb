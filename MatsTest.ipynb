{
  "nbformat": 4,
  "nbformat_minor": 0,
  "metadata": {
    "colab": {
      "provenance": [],
      "authorship_tag": "ABX9TyM6xGJ6HkXoWL/uRAj60s1t",
      "include_colab_link": true
    },
    "kernelspec": {
      "name": "python3",
      "display_name": "Python 3"
    },
    "language_info": {
      "name": "python"
    }
  },
  "cells": [
    {
      "cell_type": "markdown",
      "metadata": {
        "id": "view-in-github",
        "colab_type": "text"
      },
      "source": [
        "<a href=\"https://colab.research.google.com/github/matspeh/MinAI/blob/master/MatsTest.ipynb\" target=\"_parent\"><img src=\"https://colab.research.google.com/assets/colab-badge.svg\" alt=\"Open In Colab\"/></a>"
      ]
    },
    {
      "cell_type": "code",
      "execution_count": null,
      "metadata": {
        "colab": {
          "base_uri": "https://localhost:8080/"
        },
        "id": "L7Yo2tDoMvVX",
        "outputId": "5051edb1-93be-4c74-99fb-f32f1dcd7cbc"
      },
      "outputs": [
        {
          "output_type": "stream",
          "name": "stdout",
          "text": [
            "Heja!\n"
          ]
        }
      ],
      "source": [
        "print(\"Heja!\")"
      ]
    },
    {
      "cell_type": "code",
      "source": [
        "print(\"igen\")\n",
        "!ls"
      ],
      "metadata": {
        "colab": {
          "base_uri": "https://localhost:8080/"
        },
        "id": "I8u_ht6GNAn6",
        "outputId": "b719e776-e402-490e-aeef-ed26abf86fa0"
      },
      "execution_count": null,
      "outputs": [
        {
          "output_type": "stream",
          "name": "stdout",
          "text": [
            "igen\n",
            "sample_data\n"
          ]
        }
      ]
    },
    {
      "cell_type": "markdown",
      "source": [
        "Här har jag lite kommentarer"
      ],
      "metadata": {
        "id": "a8PsdnqTM9Hf"
      }
    },
    {
      "cell_type": "code",
      "source": [],
      "metadata": {
        "id": "TOFQtpF-RTkf"
      },
      "execution_count": null,
      "outputs": []
    }
  ]
}